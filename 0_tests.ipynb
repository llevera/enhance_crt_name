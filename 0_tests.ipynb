{
 "cells": [
  {
   "cell_type": "code",
   "execution_count": 43,
   "metadata": {},
   "outputs": [],
   "source": [
    "# docker shenanigans, please ignore \n",
    "#%cd /app/notebooks/enhance_crt_net/"
   ]
  },
  {
   "cell_type": "markdown",
   "metadata": {},
   "source": [
    "### CRT-Net MIT-BIH Simple (200 samples, 2 leads, 5 classes)"
   ]
  },
  {
   "cell_type": "code",
   "execution_count": 44,
   "metadata": {},
   "outputs": [
    {
     "name": "stdout",
     "output_type": "stream",
     "text": [
      "Model: \"model\"\n",
      "_________________________________________________________________\n",
      " Layer (type)                Output Shape              Param #   \n",
      "=================================================================\n",
      " input_1 (InputLayer)        [(None, 200, 2)]          0         \n",
      "                                                                 \n",
      " vgg_net (VGGNet)            (None, 100, 128)          50176     \n",
      "                                                                 \n",
      " bi_gru (BiGRU)              (None, 100, 256)          198144    \n",
      "                                                                 \n",
      " stacked_transformer_encode  (None, 100, 256)          1583104   \n",
      " r (StackedTransformerEncod                                      \n",
      " er)                                                             \n",
      "                                                                 \n",
      " global_average_pooling1d (  (None, 256)               0         \n",
      " GlobalAveragePooling1D)                                         \n",
      "                                                                 \n",
      " dense (Dense)               (None, 10)                2570      \n",
      "                                                                 \n",
      " dense_1 (Dense)             (None, 5)                 55        \n",
      "                                                                 \n",
      "=================================================================\n",
      "Total params: 1834049 (7.00 MB)\n",
      "Trainable params: 1834049 (7.00 MB)\n",
      "Non-trainable params: 0 (0.00 Byte)\n",
      "_________________________________________________________________\n"
     ]
    }
   ],
   "source": [
    "import tensorflow as tf\n",
    "from importlib import reload\n",
    "from src import crtnet_models\n",
    "reload(crtnet_models)\n",
    "\n",
    "tf.keras.backend.clear_session()\n",
    "model = crtnet_models.crt_net_original(\n",
    "    n_classes=5,\n",
    "    input_shape=(200,2),\n",
    "    n_vgg_blocks=1,\n",
    "    binary=False, # set this to true if using multilabel output (disables softmax and categorical cross entropy). MIT-BIH is not multilabel.\n",
    "    use_focal=True, # addresses significant class imbalance (enables focal cross entropy)\n",
    "    metrics=['accuracy', 'f1'], # May be better to evaluate on F1 score if using early stopping\n",
    "    d_model=128, # default feature dim size (d_ffn set to 2*d_model)\n",
    ")\n",
    "model.summary()\n",
    "del model\n"
   ]
  },
  {
   "cell_type": "markdown",
   "metadata": {},
   "source": [
    "### CRT-Net MIT-BIH Alternate (200 samples, 2 leads, 5 classes)"
   ]
  },
  {
   "cell_type": "markdown",
   "metadata": {},
   "source": [
    "The provided CRT-Net models.py has some alterations which may be the result of tuning the model:\n",
    "- Leaky ReLU (alpha=0.3) activation instead of ReLU.\n",
    "- Dropout (rate=0.2) after every VGG block and the BiGRU layer.\n",
    "- Sine position encoding uses max position encoding of 2048, instead of default 10000\n",
    "- Additional dropout between transformer encoders and global pooling\n",
    "- Additional dense layer before output (units=4*n_classes, SeLU activation)"
   ]
  },
  {
   "cell_type": "code",
   "execution_count": 45,
   "metadata": {},
   "outputs": [
    {
     "name": "stdout",
     "output_type": "stream",
     "text": [
      "Model: \"model\"\n",
      "_________________________________________________________________\n",
      " Layer (type)                Output Shape              Param #   \n",
      "=================================================================\n",
      " input_1 (InputLayer)        [(None, 200, 2)]          0         \n",
      "                                                                 \n",
      " vgg_net (VGGNet)            (None, 100, 128)          443520    \n",
      "                                                                 \n",
      " bi_gru (BiGRU)              (None, 100, 256)          198144    \n",
      "                                                                 \n",
      " stacked_transformer_encode  (None, 100, 256)          1583104   \n",
      " r (StackedTransformerEncod                                      \n",
      " er)                                                             \n",
      "                                                                 \n",
      " dropout_2 (Dropout)         (None, 100, 256)          0         \n",
      "                                                                 \n",
      " global_average_pooling1d (  (None, 256)               0         \n",
      " GlobalAveragePooling1D)                                         \n",
      "                                                                 \n",
      " dense (Dense)               (None, 10)                2570      \n",
      "                                                                 \n",
      " dense_1 (Dense)             (None, 5)                 55        \n",
      "                                                                 \n",
      "=================================================================\n",
      "Total params: 2227393 (8.50 MB)\n",
      "Trainable params: 2227393 (8.50 MB)\n",
      "Non-trainable params: 0 (0.00 Byte)\n",
      "_________________________________________________________________\n"
     ]
    }
   ],
   "source": [
    "import tensorflow as tf\n",
    "from importlib import reload\n",
    "from src import crtnet_models\n",
    "reload(crtnet_models)\n",
    "\n",
    "tf.keras.backend.clear_session()\n",
    "model = crtnet_models.crt_net_original_alt(\n",
    "    n_classes=5,\n",
    "    input_shape=(200,2),\n",
    "    n_vgg_blocks=1,\n",
    "    binary=False, # set this to true if using multilabel output (disables softmax and categorical cross entropy). MIT-BIH is not multilabel.\n",
    "    use_focal=True, # addresses significant class imbalance (enables focal cross entropy)\n",
    "    metrics=['accuracy', 'f1'], # May be better to evaluate on F1 score if using early stopping\n",
    "    d_model=128, # default feature dim size (d_ffn set to 2*d_model)\n",
    ")\n",
    "model.summary()\n",
    "del model"
   ]
  },
  {
   "cell_type": "markdown",
   "metadata": {},
   "source": [
    "### CRT-Net CPSC Simple (3000 samples, 12 leads, 9 classes)"
   ]
  },
  {
   "cell_type": "code",
   "execution_count": 46,
   "metadata": {},
   "outputs": [
    {
     "name": "stdout",
     "output_type": "stream",
     "text": [
      "Model: \"model\"\n",
      "_________________________________________________________________\n",
      " Layer (type)                Output Shape              Param #   \n",
      "=================================================================\n",
      " input_1 (InputLayer)        [(None, 3000, 12)]        0         \n",
      "                                                                 \n",
      " vgg_net (VGGNet)            (None, 94, 128)           448256    \n",
      "                                                                 \n",
      " bi_gru (BiGRU)              (None, 94, 256)           198144    \n",
      "                                                                 \n",
      " stacked_transformer_encode  (None, 94, 256)           1583104   \n",
      " r (StackedTransformerEncod                                      \n",
      " er)                                                             \n",
      "                                                                 \n",
      " global_average_pooling1d (  (None, 256)               0         \n",
      " GlobalAveragePooling1D)                                         \n",
      "                                                                 \n",
      " dense (Dense)               (None, 18)                4626      \n",
      "                                                                 \n",
      " dense_1 (Dense)             (None, 9)                 171       \n",
      "                                                                 \n",
      "=================================================================\n",
      "Total params: 2234301 (8.52 MB)\n",
      "Trainable params: 2234301 (8.52 MB)\n",
      "Non-trainable params: 0 (0.00 Byte)\n",
      "_________________________________________________________________\n"
     ]
    }
   ],
   "source": [
    "import tensorflow as tf\n",
    "from importlib import reload\n",
    "from src import crtnet_models\n",
    "reload(crtnet_models)\n",
    "\n",
    "tf.keras.backend.clear_session()\n",
    "model = crtnet_models.crt_net_original(\n",
    "    n_classes=9,\n",
    "    input_shape=(3000,12),\n",
    "    n_vgg_blocks=5, # increased signal length so more CNN blocks to downsample (3000 / 2**5 -> 94)\n",
    "    binary=True, # set this to true if using multilabel output (disables softmax and categorical cross entropy). CPSC can be multilabel.\n",
    "    use_focal=True, # addresses significant class imbalance (enables focal cross entropy)\n",
    "    metrics=['accuracy', 'f1'], # May be better to evaluate on F1 score if using early stopping\n",
    "    d_model=128, # default feature dim size (d_ffn set to 2*d_model)\n",
    ")\n",
    "model.summary()\n",
    "del model\n"
   ]
  },
  {
   "cell_type": "markdown",
   "metadata": {},
   "source": [
    "### CRT-Net CPSC Alternate (3000 samples, 12 leads, 9 classes)"
   ]
  },
  {
   "cell_type": "markdown",
   "metadata": {},
   "source": [
    "The provided CRT-Net models.py has some alterations which may be the result of tuning the model:\n",
    "- Leaky ReLU (alpha=0.3) activation instead of ReLU.\n",
    "- Dropout (rate=0.2) after every VGG block and the BiGRU layer.\n",
    "- Sine position encoding uses max position encoding of 2048, instead of default 10000\n",
    "- Additional dropout between transformer encoders and global pooling\n",
    "- Additional dense layer before output (units=4*n_classes, SeLU activation)"
   ]
  },
  {
   "cell_type": "code",
   "execution_count": 49,
   "metadata": {},
   "outputs": [
    {
     "name": "stdout",
     "output_type": "stream",
     "text": [
      "Model: \"model\"\n",
      "_________________________________________________________________\n",
      " Layer (type)                Output Shape              Param #   \n",
      "=================================================================\n",
      " input_1 (InputLayer)        [(None, 3000, 12)]        0         \n",
      "                                                                 \n",
      " vgg_net (VGGNet)            (None, 94, 128)           2414976   \n",
      "                                                                 \n",
      " bi_gru (BiGRU)              (None, 94, 256)           198144    \n",
      "                                                                 \n",
      " stacked_transformer_encode  (None, 94, 256)           1583104   \n",
      " r (StackedTransformerEncod                                      \n",
      " er)                                                             \n",
      "                                                                 \n",
      " dropout_6 (Dropout)         (None, 94, 256)           0         \n",
      "                                                                 \n",
      " global_average_pooling1d (  (None, 256)               0         \n",
      " GlobalAveragePooling1D)                                         \n",
      "                                                                 \n",
      " dense (Dense)               (None, 18)                4626      \n",
      "                                                                 \n",
      " dense_1 (Dense)             (None, 9)                 171       \n",
      "                                                                 \n",
      "=================================================================\n",
      "Total params: 4201021 (16.03 MB)\n",
      "Trainable params: 4201021 (16.03 MB)\n",
      "Non-trainable params: 0 (0.00 Byte)\n",
      "_________________________________________________________________\n"
     ]
    }
   ],
   "source": [
    "import tensorflow as tf\n",
    "from importlib import reload\n",
    "from src import crtnet_models\n",
    "reload(crtnet_models)\n",
    "\n",
    "tf.keras.backend.clear_session()\n",
    "model = crtnet_models.crt_net_original_alt(\n",
    "    n_classes=9,\n",
    "    input_shape=(3000,12),\n",
    "    n_vgg_blocks=5, # increased signal length so more CNN blocks to downsample (3000 / 2**5 -> 94)\n",
    "    binary=True, # set this to true if using multilabel output (disables softmax and categorical cross entropy). CPSC can be multilabel.\n",
    "    use_focal=True, # addresses significant class imbalance (enables focal cross entropy)\n",
    "    metrics=['accuracy', 'f1'], # May be better to evaluate on F1 score if using early stopping\n",
    "    d_model=128, # default feature dim size (d_ffn set to 2*d_model)\n",
    ")\n",
    "model.summary()\n",
    "del model\n"
   ]
  }
 ],
 "metadata": {
  "language_info": {
   "name": "python"
  }
 },
 "nbformat": 4,
 "nbformat_minor": 2
}
