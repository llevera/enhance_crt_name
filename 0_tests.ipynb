{
 "cells": [
  {
   "cell_type": "code",
   "execution_count": 1,
   "metadata": {},
   "outputs": [],
   "source": [
    "# docker shenanigans, please ignore \n",
    "#%cd /app/notebooks/enhance_crt_net/"
   ]
  },
  {
   "cell_type": "markdown",
   "metadata": {},
   "source": [
    "### CRT-Net MIT-BIH Simple (200 samples, 2 leads, 5 classes)"
   ]
  },
  {
   "cell_type": "code",
   "execution_count": 4,
   "metadata": {},
   "outputs": [
    {
     "name": "stdout",
     "output_type": "stream",
     "text": [
      "Model: \"model\"\n",
      "_________________________________________________________________\n",
      " Layer (type)                Output Shape              Param #   \n",
      "=================================================================\n",
      " input_1 (InputLayer)        [(None, 200, 2)]          0         \n",
      "                                                                 \n",
      " vgg_net (VGGNet)            (None, 100, 128)          50176     \n",
      "                                                                 \n",
      " bi_gru (BiGRU)              (None, 100, 256)          198144    \n",
      "                                                                 \n",
      " stacked_transformer_encode  (None, 100, 256)          1583104   \n",
      " r (StackedTransformerEncod                                      \n",
      " er)                                                             \n",
      "                                                                 \n",
      " global_average_pooling1d (  (None, 256)               0         \n",
      " GlobalAveragePooling1D)                                         \n",
      "                                                                 \n",
      " dense (Dense)               (None, 10)                2570      \n",
      "                                                                 \n",
      " dense_1 (Dense)             (None, 5)                 55        \n",
      "                                                                 \n",
      "=================================================================\n",
      "Total params: 1834049 (7.00 MB)\n",
      "Trainable params: 1834049 (7.00 MB)\n",
      "Non-trainable params: 0 (0.00 Byte)\n",
      "_________________________________________________________________\n"
     ]
    }
   ],
   "source": [
    "import tensorflow as tf\n",
    "from importlib import reload\n",
    "from src import crtnet_models\n",
    "reload(crtnet_models)\n",
    "\n",
    "tf.keras.backend.clear_session()\n",
    "model = crtnet_models.crt_net_original(\n",
    "    n_classes=5,\n",
    "    input_shape=(200,2),\n",
    "    n_vgg_blocks=1,\n",
    "    binary=False, # set this to true if using multilabel output (disables softmax and categorical cross entropy). MIT-BIH is not multilabel.\n",
    "    use_focal=True, # addresses significant class imbalance (enables focal cross entropy)\n",
    "    metrics=['accuracy', 'f1_score'], # May be better to evaluate on F1 score if using early stopping\n",
    "    d_model=128, # default feature dim size (d_ffn set to 2*d_model)\n",
    ")\n",
    "model.summary()\n",
    "del model\n"
   ]
  },
  {
   "cell_type": "markdown",
   "metadata": {},
   "source": [
    "### CRT-Net MIT-BIH Alternate (200 samples, 2 leads, 5 classes)"
   ]
  },
  {
   "cell_type": "markdown",
   "metadata": {},
   "source": [
    "The provided CRT-Net models.py has some alterations which may be the result of tuning the model:\n",
    "- Leaky ReLU (alpha=0.3) activation instead of ReLU.\n",
    "- Dropout (rate=0.2) after every VGG block and the BiGRU layer.\n",
    "- Sine position encoding uses max position encoding of 2048, instead of default 10000\n",
    "- Additional dropout between transformer encoders and global pooling\n",
    "- Additional dense layer before output (units=4*n_classes, SeLU activation)"
   ]
  },
  {
   "cell_type": "code",
   "execution_count": 45,
   "metadata": {},
   "outputs": [
    {
     "name": "stdout",
     "output_type": "stream",
     "text": [
      "Model: \"model\"\n",
      "_________________________________________________________________\n",
      " Layer (type)                Output Shape              Param #   \n",
      "=================================================================\n",
      " input_1 (InputLayer)        [(None, 200, 2)]          0         \n",
      "                                                                 \n",
      " vgg_net (VGGNet)            (None, 100, 128)          443520    \n",
      "                                                                 \n",
      " bi_gru (BiGRU)              (None, 100, 256)          198144    \n",
      "                                                                 \n",
      " stacked_transformer_encode  (None, 100, 256)          1583104   \n",
      " r (StackedTransformerEncod                                      \n",
      " er)                                                             \n",
      "                                                                 \n",
      " dropout_2 (Dropout)         (None, 100, 256)          0         \n",
      "                                                                 \n",
      " global_average_pooling1d (  (None, 256)               0         \n",
      " GlobalAveragePooling1D)                                         \n",
      "                                                                 \n",
      " dense (Dense)               (None, 10)                2570      \n",
      "                                                                 \n",
      " dense_1 (Dense)             (None, 5)                 55        \n",
      "                                                                 \n",
      "=================================================================\n",
      "Total params: 2227393 (8.50 MB)\n",
      "Trainable params: 2227393 (8.50 MB)\n",
      "Non-trainable params: 0 (0.00 Byte)\n",
      "_________________________________________________________________\n"
     ]
    }
   ],
   "source": [
    "import tensorflow as tf\n",
    "from importlib import reload\n",
    "from src import crtnet_models\n",
    "reload(crtnet_models)\n",
    "\n",
    "tf.keras.backend.clear_session()\n",
    "model = crtnet_models.crt_net_original_alt(\n",
    "    n_classes=5,\n",
    "    input_shape=(200,2),\n",
    "    n_vgg_blocks=1,\n",
    "    binary=False, # set this to true if using multilabel output (disables softmax and categorical cross entropy). MIT-BIH is not multilabel.\n",
    "    use_focal=True, # addresses significant class imbalance (enables focal cross entropy)\n",
    "    metrics=['accuracy', 'f1_score'], # May be better to evaluate on F1 score if using early stopping\n",
    "    d_model=128, # default feature dim size (d_ffn set to 2*d_model)\n",
    ")\n",
    "model.summary()\n",
    "del model"
   ]
  },
  {
   "cell_type": "markdown",
   "metadata": {},
   "source": [
    "### CRT-Net CPSC Simple (3000 samples, 12 leads, 9 classes)"
   ]
  },
  {
   "cell_type": "code",
   "execution_count": 46,
   "metadata": {},
   "outputs": [
    {
     "name": "stdout",
     "output_type": "stream",
     "text": [
      "Model: \"model\"\n",
      "_________________________________________________________________\n",
      " Layer (type)                Output Shape              Param #   \n",
      "=================================================================\n",
      " input_1 (InputLayer)        [(None, 3000, 12)]        0         \n",
      "                                                                 \n",
      " vgg_net (VGGNet)            (None, 94, 128)           448256    \n",
      "                                                                 \n",
      " bi_gru (BiGRU)              (None, 94, 256)           198144    \n",
      "                                                                 \n",
      " stacked_transformer_encode  (None, 94, 256)           1583104   \n",
      " r (StackedTransformerEncod                                      \n",
      " er)                                                             \n",
      "                                                                 \n",
      " global_average_pooling1d (  (None, 256)               0         \n",
      " GlobalAveragePooling1D)                                         \n",
      "                                                                 \n",
      " dense (Dense)               (None, 18)                4626      \n",
      "                                                                 \n",
      " dense_1 (Dense)             (None, 9)                 171       \n",
      "                                                                 \n",
      "=================================================================\n",
      "Total params: 2234301 (8.52 MB)\n",
      "Trainable params: 2234301 (8.52 MB)\n",
      "Non-trainable params: 0 (0.00 Byte)\n",
      "_________________________________________________________________\n"
     ]
    }
   ],
   "source": [
    "import tensorflow as tf\n",
    "from importlib import reload\n",
    "from src import crtnet_models\n",
    "reload(crtnet_models)\n",
    "\n",
    "tf.keras.backend.clear_session()\n",
    "model = crtnet_models.crt_net_original(\n",
    "    n_classes=9,\n",
    "    input_shape=(3000,12),\n",
    "    n_vgg_blocks=5, # increased signal length so more CNN blocks to downsample (3000 / 2**5 -> 94)\n",
    "    binary=True, # set this to true if using multilabel output (disables softmax and categorical cross entropy). CPSC can be multilabel.\n",
    "    use_focal=True, # addresses significant class imbalance (enables focal cross entropy)\n",
    "    metrics=['accuracy', 'f1_score'], # May be better to evaluate on F1 score if using early stopping\n",
    "    d_model=128, # default feature dim size (d_ffn set to 2*d_model)\n",
    ")\n",
    "model.summary()\n",
    "del model\n"
   ]
  },
  {
   "cell_type": "markdown",
   "metadata": {},
   "source": [
    "### CRT-Net CPSC Alternate (3000 samples, 12 leads, 9 classes)"
   ]
  },
  {
   "cell_type": "markdown",
   "metadata": {},
   "source": [
    "The provided CRT-Net models.py has some alterations which may be the result of tuning the model:\n",
    "- Leaky ReLU (alpha=0.3) activation instead of ReLU.\n",
    "- Dropout (rate=0.2) after every VGG block and the BiGRU layer.\n",
    "- Sine position encoding uses max position encoding of 2048, instead of default 10000\n",
    "- Additional dropout between transformer encoders and global pooling\n",
    "- Additional dense layer before output (units=4*n_classes, SeLU activation)"
   ]
  },
  {
   "cell_type": "code",
   "execution_count": 49,
   "metadata": {},
   "outputs": [
    {
     "name": "stdout",
     "output_type": "stream",
     "text": [
      "Model: \"model\"\n",
      "_________________________________________________________________\n",
      " Layer (type)                Output Shape              Param #   \n",
      "=================================================================\n",
      " input_1 (InputLayer)        [(None, 3000, 12)]        0         \n",
      "                                                                 \n",
      " vgg_net (VGGNet)            (None, 94, 128)           2414976   \n",
      "                                                                 \n",
      " bi_gru (BiGRU)              (None, 94, 256)           198144    \n",
      "                                                                 \n",
      " stacked_transformer_encode  (None, 94, 256)           1583104   \n",
      " r (StackedTransformerEncod                                      \n",
      " er)                                                             \n",
      "                                                                 \n",
      " dropout_6 (Dropout)         (None, 94, 256)           0         \n",
      "                                                                 \n",
      " global_average_pooling1d (  (None, 256)               0         \n",
      " GlobalAveragePooling1D)                                         \n",
      "                                                                 \n",
      " dense (Dense)               (None, 18)                4626      \n",
      "                                                                 \n",
      " dense_1 (Dense)             (None, 9)                 171       \n",
      "                                                                 \n",
      "=================================================================\n",
      "Total params: 4201021 (16.03 MB)\n",
      "Trainable params: 4201021 (16.03 MB)\n",
      "Non-trainable params: 0 (0.00 Byte)\n",
      "_________________________________________________________________\n"
     ]
    }
   ],
   "source": [
    "import tensorflow as tf\n",
    "from importlib import reload\n",
    "from src import crtnet_models\n",
    "reload(crtnet_models)\n",
    "\n",
    "tf.keras.backend.clear_session()\n",
    "model = crtnet_models.crt_net_original_alt(\n",
    "    n_classes=9,\n",
    "    input_shape=(3000,12),\n",
    "    n_vgg_blocks=5, # increased signal length so more CNN blocks to downsample (3000 / 2**5 -> 94)\n",
    "    binary=True, # set this to true if using multilabel output (disables softmax and categorical cross entropy). CPSC can be multilabel.\n",
    "    use_focal=True, # addresses significant class imbalance (enables focal cross entropy)\n",
    "    metrics=['accuracy', 'f1_score'], # May be better to evaluate on F1 score if using early stopping\n",
    "    d_model=128, # default feature dim size (d_ffn set to 2*d_model)\n",
    ")\n",
    "model.summary()\n",
    "del model\n"
   ]
  },
  {
   "cell_type": "markdown",
   "metadata": {},
   "source": [
    "### CRT-Net Modular (Ablation & Experimental Architecture)"
   ]
  },
  {
   "cell_type": "markdown",
   "metadata": {},
   "source": [
    "Notes for ablation:\n",
    "\n",
    "- It may be useful to evaluate the model for VGGNet, VGGNet+BiGRU, Transformer, VGGNet+Transformer, in addition to standard VGGNet+BiGRU+Transformer.\n",
    "  - Testing BiGRU without VGGNet to downsample may be very slow for long signals, so we might ignore this.\n",
    "\n",
    "Notes for experimental architecture:\n",
    "- Options for cnn (squeezenet, cnnsvm) and att (rwkv) may be implemented and evaluated in comparison to the original architecutre."
   ]
  },
  {
   "cell_type": "code",
   "execution_count": 5,
   "metadata": {},
   "outputs": [
    {
     "name": "stdout",
     "output_type": "stream",
     "text": [
      "Model: \"model\"\n",
      "_________________________________________________________________\n",
      " Layer (type)                Output Shape              Param #   \n",
      "=================================================================\n",
      " input_1 (InputLayer)        [(None, 3000, 12)]        0         \n",
      "                                                                 \n",
      " vgg_net (VGGNet)            (None, 94, 128)           2414976   \n",
      "                                                                 \n",
      " global_average_pooling1d (  (None, 128)               0         \n",
      " GlobalAveragePooling1D)                                         \n",
      "                                                                 \n",
      " dense (Dense)               (None, 18)                2322      \n",
      "                                                                 \n",
      " dense_1 (Dense)             (None, 9)                 171       \n",
      "                                                                 \n",
      "=================================================================\n",
      "Total params: 2417469 (9.22 MB)\n",
      "Trainable params: 2417469 (9.22 MB)\n",
      "Non-trainable params: 0 (0.00 Byte)\n",
      "_________________________________________________________________\n"
     ]
    }
   ],
   "source": [
    "import tensorflow as tf\n",
    "from importlib import reload\n",
    "from src import crtnet_models\n",
    "reload(crtnet_models)\n",
    "\n",
    "# cnn_type options:\n",
    "#  None\n",
    "#  'vggnet'\n",
    "#  'squeezenet'  (not impl)\n",
    "#  'cnnsvm'      (not impl)\n",
    "\n",
    "# rnn_type options:\n",
    "#  None\n",
    "#  'bigru'\n",
    "\n",
    "# att_type options:\n",
    "#  None\n",
    "#  'transformer'\n",
    "#  'rwkv'        (not impl)\n",
    " \n",
    "tf.keras.backend.clear_session()\n",
    "model = crtnet_models.crt_net_modular(\n",
    "    n_classes=9,\n",
    "    input_shape=(3000,12),\n",
    "    n_vgg_blocks=5,\n",
    "\n",
    "    cnn_type='vggnet',\n",
    "    rnn_type=None, # disabled rnn\n",
    "    att_type=None, # disabled transformer\n",
    "\n",
    "    alternate_arch=True, # alternate modifications like leaky relu enabled\n",
    "    \n",
    "    binary=True,\n",
    "    use_focal=True,\n",
    ")\n",
    "model.summary()\n",
    "del model\n"
   ]
  },
  {
   "cell_type": "markdown",
   "metadata": {},
   "source": [
    "with RWKV (this takes a while to compile. 1 minute on my docker container)"
   ]
  },
  {
   "cell_type": "code",
   "execution_count": 5,
   "metadata": {},
   "outputs": [
    {
     "name": "stdout",
     "output_type": "stream",
     "text": [
      "Model: \"model\"\n",
      "_________________________________________________________________\n",
      " Layer (type)                Output Shape              Param #   \n",
      "=================================================================\n",
      " input_1 (InputLayer)        [(None, 3000, 12)]        0         \n",
      "                                                                 \n",
      " vgg_net (VGGNet)            (None, 94, 128)           2414976   \n",
      "                                                                 \n",
      " bi_gru (BiGRU)              (None, 94, 256)           198144    \n",
      "                                                                 \n",
      " stacked_rwkv (StackedRWKV)  (None, 94, 256)           3420160   \n",
      "                                                                 \n",
      " global_average_pooling1d (  (None, 256)               0         \n",
      " GlobalAveragePooling1D)                                         \n",
      "                                                                 \n",
      " dense (Dense)               (None, 18)                4626      \n",
      "                                                                 \n",
      " dense_1 (Dense)             (None, 9)                 171       \n",
      "                                                                 \n",
      "=================================================================\n",
      "Total params: 6038077 (23.03 MB)\n",
      "Trainable params: 6038077 (23.03 MB)\n",
      "Non-trainable params: 0 (0.00 Byte)\n",
      "_________________________________________________________________\n"
     ]
    }
   ],
   "source": [
    "import tensorflow as tf\n",
    "from importlib import reload\n",
    "from src import crtnet_models\n",
    "reload(crtnet_models)\n",
    " \n",
    "tf.keras.backend.clear_session()\n",
    "model = crtnet_models.crt_net_modular(\n",
    "    n_classes=9,\n",
    "    input_shape=(3000,12),\n",
    "    n_vgg_blocks=5,\n",
    "\n",
    "    cnn_type='vggnet',\n",
    "    rnn_type='bigru',\n",
    "    att_type='rwkv', # using RWKV instead of stacked transformer\n",
    "    rkwv_stack_multiplier=1, # RWKV allows deeper stacks. If it runs well, try setting it to 4 (for 4x4=16 total RWKV layers- 16 million params lol)\n",
    "\n",
    "    alternate_arch=True, # alternate modifications like leaky relu enabled\n",
    "    \n",
    "    binary=True,\n",
    "    use_focal=True,\n",
    ")\n",
    "model.summary()\n",
    "del model\n"
   ]
  }
 ],
 "metadata": {
  "language_info": {
   "name": "python"
  }
 },
 "nbformat": 4,
 "nbformat_minor": 2
}
