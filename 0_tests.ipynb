{
 "cells": [
  {
   "cell_type": "code",
   "execution_count": 2,
   "metadata": {},
   "outputs": [
    {
     "name": "stdout",
     "output_type": "stream",
     "text": [
      "Model: \"sequential\"\n",
      "_________________________________________________________________\n",
      " Layer (type)                Output Shape              Param #   \n",
      "=================================================================\n",
      " conv1d (Conv1D)             (None, 4996, 6)           366       \n",
      "                                                                 \n",
      " average_pooling1d (Average  (None, 2498, 6)           0         \n",
      " Pooling1D)                                                      \n",
      "                                                                 \n",
      " conv1d_1 (Conv1D)           (None, 2494, 16)          496       \n",
      "                                                                 \n",
      " average_pooling1d_1 (Avera  (None, 1247, 16)          0         \n",
      " gePooling1D)                                                    \n",
      "                                                                 \n",
      " flatten (Flatten)           (None, 19952)             0         \n",
      "                                                                 \n",
      " dense (Dense)               (None, 120)               2394360   \n",
      "                                                                 \n",
      " dense_1 (Dense)             (None, 84)                10164     \n",
      "                                                                 \n",
      " dense_2 (Dense)             (None, 7)                 595       \n",
      "                                                                 \n",
      "=================================================================\n",
      "Total params: 2405981 (9.18 MB)\n",
      "Trainable params: 2405981 (9.18 MB)\n",
      "Non-trainable params: 0 (0.00 Byte)\n",
      "_________________________________________________________________\n"
     ]
    }
   ],
   "source": [
    "import tensorflow as tf\n",
    "from importlib import reload\n",
    "from src import models\n",
    "reload(models)\n",
    "\n",
    "tf.keras.backend.clear_session()\n",
    "#models.lenet1d2((5000,12), 7).summary()\n",
    "models.lenet1d().summary()"
   ]
  },
  {
   "cell_type": "code",
   "execution_count": 18,
   "metadata": {},
   "outputs": [
    {
     "name": "stdout",
     "output_type": "stream",
     "text": [
      "Model: \"sequential\"\n",
      "_________________________________________________________________\n",
      " Layer (type)                Output Shape              Param #   \n",
      "=================================================================\n",
      " conv1d (Conv1D)             (None, 196, 32)           352       \n",
      "                                                                 \n",
      " average_pooling1d (Average  (None, 98, 32)            0         \n",
      " Pooling1D)                                                      \n",
      "                                                                 \n",
      " conv1d_1 (Conv1D)           (None, 94, 64)            10304     \n",
      "                                                                 \n",
      " average_pooling1d_1 (Avera  (None, 47, 64)            0         \n",
      " gePooling1D)                                                    \n",
      "                                                                 \n",
      " conv1d_2 (Conv1D)           (None, 43, 128)           41088     \n",
      "                                                                 \n",
      " average_pooling1d_2 (Avera  (None, 21, 128)           0         \n",
      " gePooling1D)                                                    \n",
      "                                                                 \n",
      " flatten (Flatten)           (None, 2688)              0         \n",
      "                                                                 \n",
      " batch_normalization (Batch  (None, 2688)              10752     \n",
      " Normalization)                                                  \n",
      "                                                                 \n",
      " dropout (Dropout)           (None, 2688)              0         \n",
      "                                                                 \n",
      " dense (Dense)               (None, 512)               1376768   \n",
      "                                                                 \n",
      " batch_normalization_1 (Bat  (None, 512)               2048      \n",
      " chNormalization)                                                \n",
      "                                                                 \n",
      " dropout_1 (Dropout)         (None, 512)               0         \n",
      "                                                                 \n",
      " dense_1 (Dense)             (None, 256)               131328    \n",
      "                                                                 \n",
      " batch_normalization_2 (Bat  (None, 256)               1024      \n",
      " chNormalization)                                                \n",
      "                                                                 \n",
      " dropout_2 (Dropout)         (None, 256)               0         \n",
      "                                                                 \n",
      " dense_2 (Dense)             (None, 128)               32896     \n",
      "                                                                 \n",
      " batch_normalization_3 (Bat  (None, 128)               512       \n",
      " chNormalization)                                                \n",
      "                                                                 \n",
      " dropout_3 (Dropout)         (None, 128)               0         \n",
      "                                                                 \n",
      " dense_3 (Dense)             (None, 5)                 645       \n",
      "                                                                 \n",
      "=================================================================\n",
      "Total params: 1607717 (6.13 MB)\n",
      "Trainable params: 1600549 (6.11 MB)\n",
      "Non-trainable params: 7168 (28.00 KB)\n",
      "_________________________________________________________________\n"
     ]
    }
   ],
   "source": [
    "import tensorflow as tf\n",
    "from importlib import reload\n",
    "from src import models\n",
    "reload(models)\n",
    "\n",
    "tf.keras.backend.clear_session()\n",
    "models.biggerlenet1d(2, 5, 200).summary()"
   ]
  }
 ],
 "metadata": {
  "language_info": {
   "name": "python"
  }
 },
 "nbformat": 4,
 "nbformat_minor": 2
}
